{
  "nbformat": 4,
  "nbformat_minor": 0,
  "metadata": {
    "colab": {
      "provenance": [],
      "include_colab_link": true
    },
    "kernelspec": {
      "name": "python3",
      "display_name": "Python 3"
    },
    "language_info": {
      "name": "python"
    }
  },
  "cells": [
    {
      "cell_type": "markdown",
      "metadata": {
        "id": "view-in-github",
        "colab_type": "text"
      },
      "source": [
        "<a href=\"https://colab.research.google.com/github/AlejandroChabur/LogisticRegression/blob/main/Logistic_Regression.ipynb\" target=\"_parent\"><img src=\"https://colab.research.google.com/assets/colab-badge.svg\" alt=\"Open In Colab\"/></a>"
      ]
    },
    {
      "cell_type": "code",
      "execution_count": 3,
      "metadata": {
        "colab": {
          "base_uri": "https://localhost:8080/",
          "height": 1000
        },
        "id": "-XmZSD3cl6WJ",
        "outputId": "82d5c2c3-67ec-4d2d-96e8-5c596c68e9fe"
      },
      "outputs": [
        {
          "output_type": "stream",
          "name": "stdout",
          "text": [
            "   CityID  Temperature   Humidity  WindSpeed WeatherCondition  Predic\n",
            "0    1316    13.304598  45.136693  10.439476           Cloudy       0\n",
            "1    8812    17.714266  30.721510  13.804255            Sunny       0\n",
            "2    7596    34.065257  21.690928  26.384650            Sunny       0\n",
            "3    7856     9.052134  39.611649  17.398296           Cloudy       0\n",
            "4    9794    29.930037  21.516413  22.445112            Rainy       1\n",
            "<class 'pandas.core.frame.DataFrame'>\n",
            "RangeIndex: 2000 entries, 0 to 1999\n",
            "Data columns (total 6 columns):\n",
            " #   Column            Non-Null Count  Dtype  \n",
            "---  ------            --------------  -----  \n",
            " 0   CityID            2000 non-null   int64  \n",
            " 1   Temperature       2000 non-null   float64\n",
            " 2   Humidity          2000 non-null   float64\n",
            " 3   WindSpeed         2000 non-null   float64\n",
            " 4   WeatherCondition  2000 non-null   object \n",
            " 5   Predic            2000 non-null   int64  \n",
            "dtypes: float64(3), int64(2), object(1)\n",
            "memory usage: 93.9+ KB\n",
            "None\n",
            "            CityID  Temperature     Humidity    WindSpeed       Predic\n",
            "count  2000.000000  2000.000000  2000.000000  2000.000000  2000.000000\n",
            "mean   5396.241000    15.176134    54.548301    15.197979     0.243000\n",
            "std    2588.710911    14.469665    25.644151     8.638688     0.429002\n",
            "min    1006.000000    -9.982577    10.150033     0.011180     0.000000\n",
            "25%    3121.500000     2.491024    32.377894     7.642109     0.000000\n",
            "50%    5386.000000    15.637697    54.265098    15.511780     0.000000\n",
            "75%    7634.750000    27.591980    76.332337    22.528120     0.000000\n",
            "max    9992.000000    39.994073    99.950988    29.982660     1.000000\n",
            "              precision    recall  f1-score   support\n",
            "\n",
            "           0       1.00      1.00      1.00       448\n",
            "           1       1.00      1.00      1.00       152\n",
            "\n",
            "    accuracy                           1.00       600\n",
            "   macro avg       1.00      1.00      1.00       600\n",
            "weighted avg       1.00      1.00      1.00       600\n",
            "\n",
            "Precisión del modelo: 100.00%\n"
          ]
        },
        {
          "output_type": "display_data",
          "data": {
            "text/plain": [
              "<Figure size 600x500 with 2 Axes>"
            ],
            "image/png": "[encoded data removed]"
          },
          "metadata": {}
        },
        {
          "output_type": "stream",
          "name": "stdout",
          "text": [
            "                        Coeficiente\n",
            "Temperature               -0.021327\n",
            "Humidity                   0.045995\n",
            "WindSpeed                 -0.055699\n",
            "WeatherCondition_Rainy     7.914860\n",
            "WeatherCondition_Snowy    -1.329699\n",
            "WeatherCondition_Sunny    -1.399845\n"
          ]
        }
      ],
      "source": [
        "import numpy as np\n",
        "import pandas as pd\n",
        "from sklearn.model_selection import train_test_split\n",
        "from sklearn.preprocessing import StandardScaler, LabelEncoder\n",
        "from sklearn.linear_model import LogisticRegression\n",
        "from sklearn.metrics import confusion_matrix, classification_report\n",
        "import matplotlib.pyplot as plt\n",
        "import seaborn as sns\n",
        "\n",
        "# Cargar los datos\n",
        "file_path = '/content/weather_dataU2.csv'  # Ruta al archivo\n",
        "data = pd.read_csv(file_path, sep=';')\n",
        "\n",
        "# Verificar el dataset\n",
        "print(data.head())\n",
        "print(data.info())\n",
        "print(data.describe())\n",
        "\n",
        "# Convertir la variable categórica 'WeatherCondition' a numérico\n",
        "data = pd.get_dummies(data, columns=['WeatherCondition'], drop_first=True)\n",
        "\n",
        "# Seleccionar características y variable objetivo\n",
        "X = data[['Temperature', 'Humidity', 'WindSpeed'] + [col for col in data.columns if 'WeatherCondition_' in col]]\n",
        "y = data['Predic']\n",
        "\n",
        "# Escalar características numéricas\n",
        "scaler = StandardScaler()\n",
        "X.loc[:, ['Temperature', 'Humidity', 'WindSpeed']] = scaler.fit_transform(X[['Temperature', 'Humidity', 'WindSpeed']])\n",
        "\n",
        "# División en conjunto de entrenamiento y prueba\n",
        "X_train, X_test, y_train, y_test = train_test_split(X, y, test_size=0.3, random_state=42)\n",
        "\n",
        "# Crear y entrenar el modelo\n",
        "logreg = LogisticRegression()\n",
        "logreg.fit(X_train, y_train)\n",
        "\n",
        "# Hacer predicciones\n",
        "y_pred = logreg.predict(X_test)\n",
        "y_prob = logreg.predict_proba(X_test)[:, 1]\n",
        "\n",
        "# Evaluar el modelo\n",
        "cm = confusion_matrix(y_test, y_pred)\n",
        "accuracy = logreg.score(X_test, y_test)\n",
        "print(classification_report(y_test, y_pred))\n",
        "\n",
        "\n",
        "print(f\"Precisión del modelo: {accuracy * 100:.2f}%\")\n",
        "# Matriz de confusión\n",
        "plt.figure(figsize=(6, 5))\n",
        "sns.heatmap(cm, annot=True, fmt=\"d\", cmap=\"Reds\", cbar=True)\n",
        "plt.title(\"Confusion Matrix - Logistic Regression\")\n",
        "plt.xlabel(\"Predicted\")\n",
        "plt.ylabel(\"Actual\")\n",
        "plt.show()\n",
        "\n",
        "\n",
        "\n",
        "# Coeficientes del modelo\n",
        "coef = pd.DataFrame(logreg.coef_[0], index=X.columns, columns=['Coeficiente'])\n",
        "print(coef)\n",
        "\n",
        "\n"
      ]
    }
  ]
}